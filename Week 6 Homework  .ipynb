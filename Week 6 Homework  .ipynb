{
 "cells": [
  {
   "cell_type": "code",
   "execution_count": 26,
   "metadata": {},
   "outputs": [],
   "source": [
    "#Wyco, Shenna Marie P.\n",
    "#Homework 6"
   ]
  },
  {
   "cell_type": "code",
   "execution_count": 1,
   "metadata": {},
   "outputs": [],
   "source": [
    "#The NYC taxi data we have been working on this week has a column named \"store_and_fwd_flag\". \n",
    "#It indicates whether the taxi trip record was held in vehicle memory before sending to the vendor. \n",
    "#There are two possible values in this column: Y and N. \n",
    "\n",
    "#Please plot the histogram of the trip durations for those trips with flag Y and N separately. \n",
    "#Put the two histograms side-by-side, each with proper title, range, ticks, labels, etc. \n",
    "#Submit a notebook with code and figure"
   ]
  },
  {
   "cell_type": "code",
   "execution_count": 2,
   "metadata": {},
   "outputs": [],
   "source": [
    "import os\n",
    "import numpy as np\n",
    "import pandas as pd\n",
    "import matplotlib.pyplot as plt\n",
    "%matplotlib inline\n",
    "\n",
    "import urllib.request\n",
    "import zipfile\n",
    "import urllib.request\n",
    "import zipfile"
   ]
  },
  {
   "cell_type": "code",
   "execution_count": 6,
   "metadata": {},
   "outputs": [
    {
     "name": "stdout",
     "output_type": "stream",
     "text": [
      "File Name                                             Modified             Size\n",
      "train.csv                                      2017-07-19 11:26:56    200589097\n"
     ]
    }
   ],
   "source": [
    "# Extract files\n",
    "import zipfile\n",
    "# if not os.path.exists(\"Data\"):\n",
    "#     os.mkdir(\"Data\")\n",
    "with zipfile.ZipFile(\"/Users/shen/Downloads/train.zip\", \"r\") as file:\n",
    "    file.printdir()\n",
    "    file.extractall(\"/Users/shen/nycdata\")"
   ]
  },
  {
   "cell_type": "code",
   "execution_count": 7,
   "metadata": {},
   "outputs": [],
   "source": [
    "taxidata = pd.read_csv(\"/Users/shen/Downloads/train.zip\", delimiter=\",\")"
   ]
  },
  {
   "cell_type": "code",
   "execution_count": 25,
   "metadata": {},
   "outputs": [
    {
     "name": "stdout",
     "output_type": "stream",
     "text": [
      "Counter({'N': 1450599, 'Y': 8045})\n"
     ]
    },
    {
     "data": {
      "text/plain": [
       "Text(0.5, 0, 'Trip Duration')"
      ]
     },
     "execution_count": 25,
     "metadata": {},
     "output_type": "execute_result"
    },
    {
     "data": {
      "image/png": "[encoded data removed]",
      "text/plain": [
       "<Figure size 720x360 with 2 Axes>"
      ]
     },
     "metadata": {
      "needs_background": "light"
     },
     "output_type": "display_data"
    }
   ],
   "source": [
    "# Extract trips with Vender ID 1.\n",
    "flag_yes = (taxidata['store_and_fwd_flag'] == 'Y')\n",
    "taxidata_yes = taxidata[flag_yes]\n",
    "\n",
    "# Extract trips with Vender ID 2.\n",
    "flag_no = (taxidata['store_and_fwd_flag'] == 'N')\n",
    "import collections\n",
    "print(collections.Counter(taxidata['store_and_fwd_flag']))\n",
    "taxidata_no = taxidata[flag_no]\n",
    "\n",
    "# Show the historgram of trip duration\n",
    "\n",
    "fig = plt.figure(figsize=(10, 5))\n",
    "ax1 = fig.add_subplot(1, 2, 1)\n",
    "ax1.hist(taxidata_yes['trip_duration'], range=(0, 3600))\n",
    "ax1.set_title(\"store_and_fwd_flag ID = Y\")\n",
    "ax1.set_ylabel(\"Frequency\")\n",
    "ax1.set_xlabel(\"Trip Duration\")\n",
    "ax2 = fig.add_subplot(1, 2, 2)\n",
    "ax2.hist(taxidata_no['trip_duration'], range=(0, 3600))\n",
    "ax2.set_title(\"store_and_fwd_flag = N\")\n",
    "ax2.set_xlabel(\"Trip Duration\")"
   ]
  },
  {
   "cell_type": "code",
   "execution_count": null,
   "metadata": {},
   "outputs": [],
   "source": []
  }
 ],
 "metadata": {
  "kernelspec": {
   "display_name": "Python 3",
   "language": "python",
   "name": "python3"
  },
  "language_info": {
   "codemirror_mode": {
    "name": "ipython",
    "version": 3
   },
   "file_extension": ".py",
   "mimetype": "text/x-python",
   "name": "python",
   "nbconvert_exporter": "python",
   "pygments_lexer": "ipython3",
   "version": "3.7.3"
  }
 },
 "nbformat": 4,
 "nbformat_minor": 2
}
